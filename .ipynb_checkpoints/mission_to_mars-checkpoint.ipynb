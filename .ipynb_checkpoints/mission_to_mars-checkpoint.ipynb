{
 "cells": [
  {
   "cell_type": "code",
   "execution_count": null,
   "id": "running-closure",
   "metadata": {},
   "outputs": [],
   "source": [
    "#Dependencies\n",
    "import pandas as pd\n",
    "import requests\n",
    "import os\n",
    "import time\n",
    "from bs4 import BeautifulSoup as bs\n",
    "from splinter import Browser"
   ]
  },
  {
   "cell_type": "code",
   "execution_count": null,
   "id": "small-postage",
   "metadata": {},
   "outputs": [],
   "source": [
    "excutable_path ={'executable_path': 'chromedriver.exe'}\n",
    "browser = Browser('chrome', **excutable_path, headless=False)"
   ]
  },
  {
   "cell_type": "code",
   "execution_count": null,
   "id": "liberal-zimbabwe",
   "metadata": {},
   "outputs": [],
   "source": [
    "news_url = 'https://mars.nasa.gov/news/'\n",
    "browser.visit(news_url)"
   ]
  },
  {
   "cell_type": "code",
   "execution_count": null,
   "id": "headed-focus",
   "metadata": {},
   "outputs": [],
   "source": [
    "#Create a Beautiful Soup object\n",
    "news_html = browser.html\n",
    "news_soup = bs(news_html, 'lxml')\n",
    "print(news_soup)"
   ]
  },
  {
   "cell_type": "code",
   "execution_count": null,
   "id": "exciting-judge",
   "metadata": {},
   "outputs": [],
   "source": [
    "mars_weather = tw_soup.find(\"p\", class_= \"TweetTextSize TweetTextSize--normal js-tweet-text tweet-text\").text\n",
    "#Print tweets\n",
    "print(f\"mars weather :{mars_weather})"
   ]
  },
  {
   "cell_type": "code",
   "execution_count": null,
   "id": "architectural-letters",
   "metadata": {},
   "outputs": [],
   "source": [
    "# Mars facts from browser visit\n",
    "murl = 'https://space-facts.com/mars/'"
   ]
  },
  {
   "cell_type": "code",
   "execution_count": null,
   "id": "private-eagle",
   "metadata": {},
   "outputs": [],
   "source": [
    "table = pd.read_html(murl)\n",
    "Table[0]"
   ]
  },
  {
   "cell_type": "code",
   "execution_count": null,
   "id": "improved-blast",
   "metadata": {},
   "outputs": [],
   "source": [
    "mars_df = table[0]\n",
    "mars_df = mars_df[['Mars - Earth Comparison', 'Mars']]\n",
    "mars_df"
   ]
  },
  {
   "cell_type": "code",
   "execution_count": null,
   "id": "integrated-spiritual",
   "metadata": {},
   "outputs": [],
   "source": [
    "mars_facts_html = mars_df.to_html(header=False, index=False)\n",
    "mars_fact_html"
   ]
  }
 ],
 "metadata": {
  "kernelspec": {
   "display_name": "Python 3",
   "language": "python",
   "name": "python3"
  },
  "language_info": {
   "codemirror_mode": {
    "name": "ipython",
    "version": 3
   },
   "file_extension": ".py",
   "mimetype": "text/x-python",
   "name": "python",
   "nbconvert_exporter": "python",
   "pygments_lexer": "ipython3",
   "version": "3.8.5"
  }
 },
 "nbformat": 4,
 "nbformat_minor": 5
}
