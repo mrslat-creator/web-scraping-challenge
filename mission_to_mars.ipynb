{
 "cells": [
  {
   "cell_type": "code",
   "execution_count": null,
   "id": "minus-appreciation",
   "metadata": {},
   "outputs": [],
   "source": [
    "# Dependencies\n",
    "import pandas as pd\n",
    "import requests\n",
    "import os\n",
    "import time\n",
    "from bs4 import BeautifulSoup as bs\n",
    "from splinter import Browser"
   ]
  },
  {
   "cell_type": "code",
   "execution_count": null,
   "id": "conscious-grounds",
   "metadata": {},
   "outputs": [],
   "source": [
    "excutable_path ={'executable_path': 'chromedriver.exe'}\n",
    "browser = Browser('chrome', **excutable_path, headless=False)"
   ]
  },
  {
   "cell_type": "code",
   "execution_count": null,
   "id": "patent-dominant",
   "metadata": {},
   "outputs": [],
   "source": [
    "news_url = 'https://mars.nasa.gov/news/'\n",
    "browser.visit(news_url)"
   ]
  },
  {
   "cell_type": "code",
   "execution_count": null,
   "id": "cloudy-message",
   "metadata": {},
   "outputs": [],
   "source": [
    "# Create a Beautiful Soup object\n",
    "news_html = browser.html\n",
    "news_soup = bs(news_html, 'lxml')\n",
    "print(news_soup)"
   ]
  },
  {
   "cell_type": "code",
   "execution_count": null,
   "id": "postal-grounds",
   "metadata": {},
   "outputs": [],
   "source": [
    "mars_weather = tw_soup.find(\"p\", class_= \"TweetTextSize TweetTextSize--normal js-tweet-text tweet-text\").text\n",
    "#Print tweets\n",
    "print(f\"mars weather :{mars_weather})"
   ]
  },
  {
   "cell_type": "code",
   "execution_count": null,
   "id": "conceptual-meditation",
   "metadata": {},
   "outputs": [],
   "source": [
    "# Mars facts from browser visit\n",
    "murl = 'https://space-facts.com/mars/'"
   ]
  },
  {
   "cell_type": "code",
   "execution_count": null,
   "id": "fancy-constitutional",
   "metadata": {},
   "outputs": [],
   "source": [
    "table = pd.read_html(murl)\n",
    "Table[0]"
   ]
  },
  {
   "cell_type": "code",
   "execution_count": null,
   "id": "raising-branch",
   "metadata": {},
   "outputs": [],
   "source": [
    "mars_df = table[0]\n",
    "mars_df = mars_df[['Mars - Earth Comparison', 'Mars']]\n",
    "mars_df"
   ]
  },
  {
   "cell_type": "code",
   "execution_count": null,
   "id": "understood-helena",
   "metadata": {},
   "outputs": [],
   "source": [
    "mars_facts_html = mars_df.to_html(header=False, index=False)\n",
    "mars_fact_html"
   ]
  },
  {
   "cell_type": "code",
   "execution_count": null,
   "id": "hairy-kitty",
   "metadata": {},
   "outputs": [],
   "source": [
    "# Mars Hemispheres\n",
    "mhurl = 'https://astrogeology.usgs.gov/search/results?q=hemisphere+enhanced&k1=target&v1=Mars'\n",
    "browser.visit(mhurl)"
   ]
  },
  {
   "cell_type": "code",
   "execution_count": null,
   "id": "eligible-anthropology",
   "metadata": {},
   "outputs": [],
   "source": [
    "mhtml = browser.html\n",
    "print(mhtml)\n",
    "\n",
    "mh_soup = bs(mhtml, \"html.parser\")\n",
    "print(mh_soup)"
   ]
  },
  {
   "cell_type": "code",
   "execution_count": null,
   "id": "simplified-colorado",
   "metadata": {},
   "outputs": [],
   "source": [
    "results = mh_soup.find_all(\"div\",class_='item')\n",
    "hemisphere_image_urls = []\n",
    "for result in results:\n",
    "    product_dict ={}\n",
    "    titles =result.find('h3').text\n",
    "    end_link =result.find(\"a\")[\"href\"]\n",
    "    image_link = \"https://astogeology.usgs.gov/\" + end_link\n",
    "    browser.visit(image_link)\n",
    "    html = browser.html\n",
    "    soup = bs(html, \"html.parser\")\n",
    "    downloads = soup.find(\"div\", class_=\"downloads\")\n",
    "    image_url = downloads.find(\"a\")[\"href\"]\n",
    "    print(titles)\n",
    "    print(image_url)\n",
    "    product_dict['title']= titles\n",
    "    product_dict['image_url']= image_url\n",
    "    hemisphere_image_urls.append(product_dict)"
   ]
  },
  {
   "cell_type": "code",
   "execution_count": null,
   "id": "neural-stationery",
   "metadata": {},
   "outputs": [],
   "source": [
    "hemisphere_image_urls"
   ]
  }
 ],
 "metadata": {
  "kernelspec": {
   "display_name": "Python 3",
   "language": "python",
   "name": "python3"
  },
  "language_info": {
   "codemirror_mode": {
    "name": "ipython",
    "version": 3
   },
   "file_extension": ".py",
   "mimetype": "text/x-python",
   "name": "python",
   "nbconvert_exporter": "python",
   "pygments_lexer": "ipython3",
   "version": "3.8.5"
  }
 },
 "nbformat": 4,
 "nbformat_minor": 5
}
